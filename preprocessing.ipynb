{
 "cells": [
  {
   "cell_type": "markdown",
   "metadata": {},
   "source": [
    "```bash\n",
    "source activate py27_tf012\n",
    "conda install -c menpo opencv3\n",
    "conda install -c menpo dlib\n",
    "```"
   ]
  },
  {
   "cell_type": "code",
   "execution_count": 7,
   "metadata": {},
   "outputs": [
    {
     "name": "stdout",
     "output_type": "stream",
     "text": [
      "INFO:__main__:Completed in 0.519834041595 seconds\r\n"
     ]
    }
   ],
   "source": [
    "!/home/yuan/anaconda3/envs/py27_tf012/bin/python preprocess.py \\\n",
    "--input-dir /data/insightzen/face/CCTV_curated/cntv_part1/PICS/ \\\n",
    "--output-dir /data/tmp/ \\\n",
    "--crop-dim 512"
   ]
  },
  {
   "cell_type": "code",
   "execution_count": null,
   "metadata": {
    "collapsed": true
   },
   "outputs": [],
   "source": []
  }
 ],
 "metadata": {
  "kernelspec": {
   "display_name": "Python [conda env:py27_tf012]",
   "language": "python",
   "name": "conda-env-py27_tf012-py"
  },
  "language_info": {
   "codemirror_mode": {
    "name": "ipython",
    "version": 2
   },
   "file_extension": ".py",
   "mimetype": "text/x-python",
   "name": "python",
   "nbconvert_exporter": "python",
   "pygments_lexer": "ipython2",
   "version": "2.7.13"
  }
 },
 "nbformat": 4,
 "nbformat_minor": 2
}
